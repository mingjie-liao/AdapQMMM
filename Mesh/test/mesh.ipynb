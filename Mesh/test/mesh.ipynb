{
 "cells": [
  {
   "cell_type": "code",
   "execution_count": 1,
   "metadata": {
    "collapsed": true
   },
   "outputs": [],
   "source": [
    "include(\"../src/readmesh.jl\")\n",
    "\n",
    "vex, edg_g, tri = read_mesh(\"QMMMball.mesh\")\n",
    "trit = tri[1:3, :]';\n",
    "nothing"
   ]
  },
  {
   "cell_type": "code",
   "execution_count": 2,
   "metadata": {},
   "outputs": [
    {
     "data": {
      "text/plain": [
       "MESH"
      ]
     },
     "execution_count": 2,
     "metadata": {},
     "output_type": "execute_result"
    }
   ],
   "source": [
    "include(\"../src/mesh.jl\")"
   ]
  },
  {
   "cell_type": "code",
   "execution_count": 3,
   "metadata": {},
   "outputs": [
    {
     "data": {
      "text/plain": [
       "MESH.Mesh([-3.23507 -2.34405 … 77.4867 80.0; 0.675486 -0.633872 … 19.8952 0.0; 0.0 0.0 … 4.0 4.0],[376 375 448; 375 302 301; … ; 1247 1248 1274; 1276 1275 1249],[7.11134 6.21137 … 56.3761 57.9164; 2.28687 1.56895 … 4.8544 1.66098],[1.25272,1.12035,1.17676,1.25272,1.03637,0.856573,0.837375,0.997018,0.960139,1.08111  …  7.55474,6.88799,3.40609,3.40609,3.11918,20.0533,8.91505,3.05916,3.72471,3.40609],[0.499503,0.387071,0.394906,0.403349,0.342449,0.294293,0.21131,0.353473,0.34673,0.312752  …  9.84245,9.92122,2.54097,2.54097,2.53262,142.658,28.1925,2.48923,2.4715,4.42523])"
      ]
     },
     "execution_count": 3,
     "metadata": {},
     "output_type": "execute_result"
    }
   ],
   "source": [
    "mesh = MESH.Mesh(vex, trit)"
   ]
  },
  {
   "cell_type": "code",
   "execution_count": 4,
   "metadata": {},
   "outputs": [
    {
     "data": {
      "text/plain": [
       "2559-element Array{Float64,1}:\n",
       "   0.499503\n",
       "   0.387071\n",
       "   0.394906\n",
       "   0.403349\n",
       "   0.342449\n",
       "   0.294293\n",
       "   0.21131 \n",
       "   0.353473\n",
       "   0.34673 \n",
       "   0.312752\n",
       "   0.288763\n",
       "   0.288763\n",
       "   0.23626 \n",
       "   ⋮       \n",
       "   2.4715  \n",
       "   4.4096  \n",
       "   9.84245 \n",
       "   9.92122 \n",
       "   2.54097 \n",
       "   2.54097 \n",
       "   2.53262 \n",
       " 142.658   \n",
       "  28.1925  \n",
       "   2.48923 \n",
       "   2.4715  \n",
       "   4.42523 "
      ]
     },
     "execution_count": 4,
     "metadata": {},
     "output_type": "execute_result"
    }
   ],
   "source": [
    "mesh.Area"
   ]
  },
  {
   "cell_type": "code",
   "execution_count": 5,
   "metadata": {},
   "outputs": [
    {
     "data": {
      "text/plain": [
       "2×2559 Array{Float64,2}:\n",
       " 7.11134  6.21137  6.64429  7.49904  6.19728  …  56.3059   56.3761  57.9164 \n",
       " 2.28687  1.56895  1.12162  1.85994  2.56054      6.13227   4.8544   1.66098"
      ]
     },
     "execution_count": 5,
     "metadata": {},
     "output_type": "execute_result"
    }
   ],
   "source": [
    "mesh.Incenter"
   ]
  },
  {
   "cell_type": "code",
   "execution_count": 6,
   "metadata": {},
   "outputs": [
    {
     "data": {
      "text/plain": [
       "2559-element Array{Float64,1}:\n",
       "  1.25272 \n",
       "  1.12035 \n",
       "  1.17676 \n",
       "  1.25272 \n",
       "  1.03637 \n",
       "  0.856573\n",
       "  0.837375\n",
       "  0.997018\n",
       "  0.960139\n",
       "  1.08111 \n",
       "  0.897613\n",
       "  0.940643\n",
       "  0.889448\n",
       "  ⋮       \n",
       "  3.72471 \n",
       "  3.72471 \n",
       "  7.55474 \n",
       "  6.88799 \n",
       "  3.40609 \n",
       "  3.40609 \n",
       "  3.11918 \n",
       " 20.0533  \n",
       "  8.91505 \n",
       "  3.05916 \n",
       "  3.72471 \n",
       "  3.40609 "
      ]
     },
     "execution_count": 6,
     "metadata": {},
     "output_type": "execute_result"
    }
   ],
   "source": [
    "mesh.MaxH"
   ]
  },
  {
   "cell_type": "code",
   "execution_count": 7,
   "metadata": {},
   "outputs": [
    {
     "data": {
      "text/plain": [
       "2559×3 Array{Int64,2}:\n",
       "  376   375   448\n",
       "  375   302   301\n",
       "  374   375   301\n",
       "  449   448   375\n",
       "  376   324   302\n",
       "  450   376   448\n",
       "  450   471   396\n",
       "  390   391   466\n",
       "  465   390   466\n",
       "  321   317   390\n",
       "  258   262   319\n",
       "  318   258   319\n",
       "  205   208   258\n",
       "    ⋮            \n",
       " 1252  1278  1253\n",
       " 1275  1274  1248\n",
       " 1289  1275  1276\n",
       " 1289  1274  1275\n",
       " 1276  1251  1250\n",
       " 1276  1249  1251\n",
       " 1275  1248  1249\n",
       " 1289  1293  1292\n",
       " 1274  1289  1287\n",
       " 1247  1274  1246\n",
       " 1247  1248  1274\n",
       " 1276  1275  1249"
      ]
     },
     "execution_count": 7,
     "metadata": {},
     "output_type": "execute_result"
    }
   ],
   "source": [
    "mesh.Triangle"
   ]
  },
  {
   "cell_type": "code",
   "execution_count": 8,
   "metadata": {},
   "outputs": [
    {
     "data": {
      "text/plain": [
       "3×1293 Array{Float64,2}:\n",
       " -3.23507   -2.34405   -1.58503   …  65.1192    77.4867  77.4867  80.0\n",
       "  0.675486  -0.633872  -0.163163     -4.27318  -19.8952  19.8952   0.0\n",
       "  0.0        0.0        0.0           0.0        4.0      4.0      4.0"
      ]
     },
     "execution_count": 8,
     "metadata": {},
     "output_type": "execute_result"
    }
   ],
   "source": [
    "mesh.Vertex"
   ]
  },
  {
   "cell_type": "code",
   "execution_count": null,
   "metadata": {
    "collapsed": true
   },
   "outputs": [],
   "source": []
  }
 ],
 "metadata": {
  "kernelspec": {
   "display_name": "Julia 0.5.2",
   "language": "julia",
   "name": "julia-0.5"
  },
  "language_info": {
   "file_extension": ".jl",
   "mimetype": "application/julia",
   "name": "julia",
   "version": "0.5.2"
  }
 },
 "nbformat": 4,
 "nbformat_minor": 2
}
