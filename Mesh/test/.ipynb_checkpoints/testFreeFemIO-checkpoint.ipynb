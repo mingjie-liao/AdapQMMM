{
 "cells": [
  {
   "cell_type": "markdown",
   "metadata": {},
   "source": [
    "# Test for read and write with FreeFem++"
   ]
  },
  {
   "cell_type": "code",
   "execution_count": 8,
   "metadata": {},
   "outputs": [
    {
     "name": "stderr",
     "output_type": "stream",
     "text": [
      "WARNING: Method definition readfreefem(Any) in module Main at /Users/Edgar/Program/Julia/AdapQMMM/Mesh/src/freefemio.jl:12 overwritten at /Users/Edgar/Program/Julia/AdapQMMM/Mesh/src/freefemio.jl:12.\n",
      "\u001b[1m\u001b[31mWARNING: replacing docs for 'readfreefem :: Tuple{Any}' in module 'Main'.\u001b[0m\n",
      "WARNING: Method definition writefreefem(Any, Any) in module Main at /Users/Edgar/Program/Julia/AdapQMMM/Mesh/src/freefemio.jl:42 overwritten at /Users/Edgar/Program/Julia/AdapQMMM/Mesh/src/freefemio.jl:41.\n",
      "\u001b[1m\u001b[31mWARNING: replacing docs for 'writefreefem :: Tuple{Any,Any}' in module 'Main'.\u001b[0m\n"
     ]
    }
   ],
   "source": [
    "include(\"../src/freefemio.jl\")\n",
    "nothing"
   ]
  },
  {
   "cell_type": "code",
   "execution_count": 9,
   "metadata": {},
   "outputs": [
    {
     "data": {
      "text/plain": [
       "1293×1 Array{Float64,2}:\n",
       " 626.242 \n",
       " 627.113 \n",
       " 627.739 \n",
       " 627.175 \n",
       " 627.527 \n",
       " 626.364 \n",
       " 628.107 \n",
       " 625.472 \n",
       " 626.948 \n",
       " 625.284 \n",
       " 626.724 \n",
       " 626.42  \n",
       " 628.001 \n",
       "   ⋮     \n",
       " 331.992 \n",
       " 199.824 \n",
       " 374.988 \n",
       " 587.377 \n",
       "  36.6265\n",
       "  41.7295\n",
       "  86.9381\n",
       "  88.3375\n",
       " 127.728 \n",
       " 374.027 \n",
       "  97.8194\n",
       " 197.145 "
      ]
     },
     "execution_count": 9,
     "metadata": {},
     "output_type": "execute_result"
    }
   ],
   "source": [
    "# read data from u1.txt exported from FreeFem++\n",
    "u = readfreefem(\"u1.txt\")"
   ]
  },
  {
   "cell_type": "code",
   "execution_count": 10,
   "metadata": {
    "collapsed": true
   },
   "outputs": [],
   "source": [
    "using HDF5, JLD"
   ]
  },
  {
   "cell_type": "code",
   "execution_count": 11,
   "metadata": {},
   "outputs": [
    {
     "data": {
      "text/plain": [
       "2×127 Array{Float64,2}:\n",
       " 5.42964e-10  -1.62885e-9   -0.00250784  …   1.62884e-9   -5.4296e-10 \n",
       " 9.40406e-10   9.40482e-10  -0.00204895     -9.40458e-10  -9.40409e-10"
      ]
     },
     "execution_count": 11,
     "metadata": {},
     "output_type": "execute_result"
    }
   ],
   "source": [
    "frc = load(\"frc_1.jld\", \"frc\")"
   ]
  },
  {
   "cell_type": "code",
   "execution_count": 12,
   "metadata": {
    "collapsed": true
   },
   "outputs": [],
   "source": [
    "writefreefem(\"f1.txt\", frc[1,:])"
   ]
  },
  {
   "cell_type": "code",
   "execution_count": 13,
   "metadata": {
    "collapsed": true
   },
   "outputs": [],
   "source": [
    "writefreefem(\"f2.txt\", frc[2,:])"
   ]
  },
  {
   "cell_type": "code",
   "execution_count": null,
   "metadata": {
    "collapsed": true
   },
   "outputs": [],
   "source": [
    "# run: FreeFem++ readf.edp"
   ]
  }
 ],
 "metadata": {
  "kernelspec": {
   "display_name": "Julia 0.5.2",
   "language": "julia",
   "name": "julia-0.5"
  },
  "language_info": {
   "file_extension": ".jl",
   "mimetype": "application/julia",
   "name": "julia",
   "version": "0.5.2"
  }
 },
 "nbformat": 4,
 "nbformat_minor": 2
}
